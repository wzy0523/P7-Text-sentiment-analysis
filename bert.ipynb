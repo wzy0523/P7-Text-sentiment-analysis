{
 "cells": [
  {
   "cell_type": "code",
   "execution_count": null,
   "id": "b4625d83-cbd9-44ff-82cf-9e083b581d1e",
   "metadata": {},
   "outputs": [],
   "source": [
    "import tensorflow as ts"
   ]
  },
  {
   "cell_type": "code",
   "execution_count": null,
   "id": "4d9b5365-bbee-4744-9c6b-d5e20f4e90a7",
   "metadata": {},
   "outputs": [],
   "source": [
    "!pip install transformers"
   ]
  },
  {
   "cell_type": "code",
   "execution_count": null,
   "id": "62b3294f-59d2-4676-9181-3fb5157ea091",
   "metadata": {},
   "outputs": [],
   "source": [
    "from transformers import DistilBertTokenizerFast\n",
    "from transformers import TFDistilBertForSequenceClassification\n",
    "import pandas as pd\n",
    "import numpy as np"
   ]
  },
  {
   "cell_type": "code",
   "execution_count": null,
   "id": "76c1d644-8170-47a9-9bbb-e4cc261d4479",
   "metadata": {},
   "outputs": [],
   "source": [
    "df=pd.read_csv(\"\")\n",
    "x=df[\"sw_exclude\"].values.tolist()\n",
    "y=df[\"label\"].tolist()"
   ]
  },
  {
   "cell_type": "code",
   "execution_count": null,
   "id": "03a0406e-7c9f-4cce-a4d8-d6a3fe149bf4",
   "metadata": {},
   "outputs": [],
   "source": [
    "from sklearn.model_selection import train_test_split"
   ]
  },
  {
   "cell_type": "code",
   "execution_count": null,
   "id": "e6119e6d-9f32-48f4-bd4d-49d78cc00d50",
   "metadata": {},
   "outputs": [],
   "source": [
    "x_train,x_test,y_train,y_test = train_test_split(x,y,test_size=0.2)"
   ]
  },
  {
   "cell_type": "code",
   "execution_count": null,
   "id": "d38f7a82-2052-4356-96d9-b58649da6278",
   "metadata": {},
   "outputs": [],
   "source": [
    "tokenizer=DistilBertTokenizerFast.from_pretrained(\"distilbert-base-uncased\")"
   ]
  },
  {
   "cell_type": "code",
   "execution_count": null,
   "id": "92c1c048-25ca-4f8a-ad0d-ab0b887b7176",
   "metadata": {},
   "outputs": [],
   "source": [
    "train_encode=tokenizer(x_train,trunction=True,padding=True,max_length=128)\n",
    "test_encode=tokenizer(x_test,trunction=True,padding=True,max_length=128)"
   ]
  },
  {
   "cell_type": "code",
   "execution_count": null,
   "id": "71c07a2e-17a3-4c6d-b603-75b5239b8e20",
   "metadata": {},
   "outputs": [],
   "source": [
    "train_set=tf.data.Dataset.from_tensor_slices((dict(train_encode),y_train))\n",
    "test_set=tf.data.Dataset.from_tensor_slices((dict(test_encode),y_test))"
   ]
  },
  {
   "cell_type": "code",
   "execution_count": null,
   "id": "0a875b15-f7a8-449e-b1d5-b90096f2b675",
   "metadata": {},
   "outputs": [],
   "source": [
    "model=TFDistilBertForSequenceClassification.from_pretrained(\"distilbert-base-uncased\",num_labels=2)\n",
    "model.fit(train_set,validation_data=test_set)"
   ]
  },
  {
   "cell_type": "code",
   "execution_count": null,
   "id": "cef69172-70bb-4c2c-8e22-82f2d4f3721c",
   "metadata": {},
   "outputs": [],
   "source": [
    "\n"
   ]
  }
 ],
 "metadata": {
  "kernelspec": {
   "display_name": "Python 3",
   "language": "python",
   "name": "python3"
  },
  "language_info": {
   "codemirror_mode": {
    "name": "ipython",
    "version": 3
   },
   "file_extension": ".py",
   "mimetype": "text/x-python",
   "name": "python",
   "nbconvert_exporter": "python",
   "pygments_lexer": "ipython3",
   "version": "3.8.8"
  }
 },
 "nbformat": 4,
 "nbformat_minor": 5
}
