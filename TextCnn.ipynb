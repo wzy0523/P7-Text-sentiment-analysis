{
 "cells": [
  {
   "cell_type": "code",
   "execution_count": 1,
   "id": "19dd4d36",
   "metadata": {},
   "outputs": [
    {
     "name": "stdout",
     "output_type": "stream",
     "text": [
      "cpu\n"
     ]
    }
   ],
   "source": [
    "import torch\n",
    "import numpy as np\n",
    "import pandas as pd\n",
    "import torch.nn as nn\n",
    "import torch.optim as optim\n",
    "import torch.utils.data as Data\n",
    "import torch.nn.functional as F\n",
    "\n",
    "dtype = torch.FloatTensor\n",
    "device = torch.device(\"cuda\" if torch.cuda.is_available() else \"cpu\")\n",
    "print(device)"
   ]
  },
  {
   "cell_type": "markdown",
   "id": "195b9d31-2523-4ebf-b731-887222431d23",
   "metadata": {},
   "source": [
    "# 1.Import"
   ]
  },
  {
   "cell_type": "code",
   "execution_count": 2,
   "id": "582e5594",
   "metadata": {},
   "outputs": [
    {
     "name": "stdout",
     "output_type": "stream",
     "text": [
      "All:10000data\n"
     ]
    }
   ],
   "source": [
    "df = pd.read_csv('review_preprocess.csv',header=0)\n",
    "print('All:{}data'.format(len(df)))"
   ]
  },
  {
   "cell_type": "code",
   "execution_count": 3,
   "id": "60272a10",
   "metadata": {},
   "outputs": [
    {
     "data": {
      "text/html": [
       "<div>\n",
       "<style scoped>\n",
       "    .dataframe tbody tr th:only-of-type {\n",
       "        vertical-align: middle;\n",
       "    }\n",
       "\n",
       "    .dataframe tbody tr th {\n",
       "        vertical-align: top;\n",
       "    }\n",
       "\n",
       "    .dataframe thead th {\n",
       "        text-align: right;\n",
       "    }\n",
       "</style>\n",
       "<table border=\"1\" class=\"dataframe\">\n",
       "  <thead>\n",
       "    <tr style=\"text-align: right;\">\n",
       "      <th></th>\n",
       "      <th>ori_text</th>\n",
       "      <th>sw_include</th>\n",
       "      <th>sw_exclude</th>\n",
       "      <th>sentiment</th>\n",
       "    </tr>\n",
       "  </thead>\n",
       "  <tbody>\n",
       "    <tr>\n",
       "      <th>0</th>\n",
       "      <td>This sweater is so beautiful on. it is thick m...</td>\n",
       "      <td>this sweater be so beautiful on it be thick ma...</td>\n",
       "      <td>sweater beautiful thick material make look box...</td>\n",
       "      <td>1</td>\n",
       "    </tr>\n",
       "    <tr>\n",
       "      <th>1</th>\n",
       "      <td>This piece is almost what i want... i tried on...</td>\n",
       "      <td>this piece be almost what i want i try on the ...</td>\n",
       "      <td>piece almost want try white version x felt lit...</td>\n",
       "      <td>1</td>\n",
       "    </tr>\n",
       "    <tr>\n",
       "      <th>2</th>\n",
       "      <td>Really like this blouse but am returning for a...</td>\n",
       "      <td>really like this blouse but be return for a la...</td>\n",
       "      <td>really like blouse return large size much tigh...</td>\n",
       "      <td>1</td>\n",
       "    </tr>\n",
       "    <tr>\n",
       "      <th>3</th>\n",
       "      <td>These are the perfect light weight relaxing su...</td>\n",
       "      <td>these be the perfect light weight relax summer...</td>\n",
       "      <td>perfect light weight relax summer pant fabric ...</td>\n",
       "      <td>1</td>\n",
       "    </tr>\n",
       "    <tr>\n",
       "      <th>4</th>\n",
       "      <td>These look nothing like the picture! they are ...</td>\n",
       "      <td>these look nothing like the picture they be su...</td>\n",
       "      <td>look nothing like picture super high waisted l...</td>\n",
       "      <td>-1</td>\n",
       "    </tr>\n",
       "  </tbody>\n",
       "</table>\n",
       "</div>"
      ],
      "text/plain": [
       "                                            ori_text  \\\n",
       "0  This sweater is so beautiful on. it is thick m...   \n",
       "1  This piece is almost what i want... i tried on...   \n",
       "2  Really like this blouse but am returning for a...   \n",
       "3  These are the perfect light weight relaxing su...   \n",
       "4  These look nothing like the picture! they are ...   \n",
       "\n",
       "                                          sw_include  \\\n",
       "0  this sweater be so beautiful on it be thick ma...   \n",
       "1  this piece be almost what i want i try on the ...   \n",
       "2  really like this blouse but be return for a la...   \n",
       "3  these be the perfect light weight relax summer...   \n",
       "4  these look nothing like the picture they be su...   \n",
       "\n",
       "                                          sw_exclude  sentiment  \n",
       "0  sweater beautiful thick material make look box...          1  \n",
       "1  piece almost want try white version x felt lit...          1  \n",
       "2  really like blouse return large size much tigh...          1  \n",
       "3  perfect light weight relax summer pant fabric ...          1  \n",
       "4  look nothing like picture super high waisted l...         -1  "
      ]
     },
     "execution_count": 3,
     "metadata": {},
     "output_type": "execute_result"
    }
   ],
   "source": [
    "df.head()"
   ]
  },
  {
   "cell_type": "code",
   "execution_count": 4,
   "id": "9801f1af",
   "metadata": {},
   "outputs": [
    {
     "data": {
      "text/plain": [
       "Index(['ori_text', 'sw_include', 'sw_exclude', 'sentiment'], dtype='object')"
      ]
     },
     "execution_count": 4,
     "metadata": {},
     "output_type": "execute_result"
    }
   ],
   "source": [
    "columns = df.columns\n",
    "columns"
   ]
  },
  {
   "cell_type": "markdown",
   "id": "4f52c2ee-2936-4717-877c-dd8d410ffd6e",
   "metadata": {},
   "source": [
    "# 2.Clean the data"
   ]
  },
  {
   "cell_type": "code",
   "execution_count": 5,
   "id": "2e0baa66",
   "metadata": {},
   "outputs": [
    {
     "name": "stdout",
     "output_type": "stream",
     "text": [
      "success\n"
     ]
    }
   ],
   "source": [
    "sentences = list(df['sw_exclude'])\n",
    "labels = list(df['sentiment'])\n",
    "type(labels)\n",
    "l = []\n",
    "if -1 in labels:\n",
    "    num_classes = len(set(labels))\n",
    "    if num_classes == 2:\n",
    "        for i in labels:\n",
    "            if i == -1:\n",
    "                l.append(0)\n",
    "            if i == 1:\n",
    "                l.append(1)\n",
    "    if num_classes == 3:\n",
    "        for i in labels:\n",
    "            if i == -1:\n",
    "                l.append(2)\n",
    "            if i == 0:\n",
    "                l.append(0)\n",
    "            if i== 1:\n",
    "                l.append(1)\n",
    "       \n",
    "    labels = l\n",
    "    print('success')\n",
    "else:\n",
    "    labels = labels"
   ]
  },
  {
   "cell_type": "code",
   "execution_count": 6,
   "id": "328dcb7d",
   "metadata": {},
   "outputs": [],
   "source": [
    "PAD = ' <PAD>'  # Fill in sentences of different lengths\n",
    "pad_size =  64     # Fill as the same length\n",
    "\n",
    "for i in range(len(sentences)):\n",
    "    sen2list = str(sentences[i]).split()\n",
    "    sentence_len = len(sen2list)\n",
    "    if sentence_len<pad_size:\n",
    "        sentences[i] += PAD*(pad_size-sentence_len)\n",
    "    else:\n",
    "        sentences[i] = \" \".join(sen2list[:pad_size])\n"
   ]
  },
  {
   "cell_type": "markdown",
   "id": "3a210cd0-3995-4953-b054-5cf709ee53a1",
   "metadata": {},
   "source": [
    "# 3.TextCnn"
   ]
  },
  {
   "cell_type": "code",
   "execution_count": 7,
   "id": "c2d88846",
   "metadata": {},
   "outputs": [],
   "source": [
    "# TextCNN Parameter\n",
    "num_classes = len(set(labels))  # num_classes=2\n",
    "batch_size = 64\n",
    "word_list = \" \".join(sentences).split()\n",
    "vocab = list(set(word_list))\n",
    "word2idx = {w: i for i, w in enumerate(vocab)}\n",
    "vocab_size = len(vocab)"
   ]
  },
  {
   "cell_type": "code",
   "execution_count": 8,
   "id": "4d29b57c",
   "metadata": {},
   "outputs": [],
   "source": [
    "def make_data(sentences, labels):\n",
    "    inputs = []\n",
    "    for sen in sentences:\n",
    "        inputs.append([word2idx[n] for n in sen.split()])\n",
    "\n",
    "    targets = []\n",
    "    for out in labels:\n",
    "        targets.append(out) # To using Torch Softmax Loss function\n",
    "    return inputs, targets\n",
    "input_batch, target_batch = make_data(sentences, labels)\n",
    "input_x = np.array(input_batch)\n",
    "target =  np.array(target_batch)\n",
    "input_batch, target_batch = torch.LongTensor(input_batch), torch.LongTensor(target_batch)\n"
   ]
  },
  {
   "cell_type": "code",
   "execution_count": 9,
   "id": "64fa176d",
   "metadata": {},
   "outputs": [],
   "source": [
    "from sklearn.model_selection import train_test_split\n",
    "#Split the train and test sets\n",
    "x_train,x_test,y_train,y_test = train_test_split(input_x,target,test_size=0.2,random_state = 0)\n",
    "\n",
    "train_dataset = Data.TensorDataset(torch.LongTensor(x_train), torch.LongTensor(y_train))\n",
    "test_dataset = Data.TensorDataset(torch.LongTensor(x_test), torch.LongTensor(y_test))\n",
    "dataset = Data.TensorDataset(input_batch, target_batch)"
   ]
  },
  {
   "cell_type": "code",
   "execution_count": 10,
   "id": "dd576472",
   "metadata": {},
   "outputs": [],
   "source": [
    "train_loader = Data.DataLoader(\n",
    "    dataset=train_dataset,      # Data, encapsulated in the data.tensorDataset()\n",
    "    batch_size=batch_size,      # size\n",
    "    shuffle=True,               \n",
    "    num_workers=2,              # multiprocess\n",
    ")\n",
    "test_loader = Data.DataLoader(\n",
    "    dataset=test_dataset,      \n",
    "    batch_size=batch_size,      \n",
    "    shuffle=True,               \n",
    "    num_workers=2, \n",
    ")\n"
   ]
  },
  {
   "cell_type": "code",
   "execution_count": 11,
   "id": "635bdab6",
   "metadata": {},
   "outputs": [],
   "source": [
    "class TextCNN(nn.Module):\n",
    "    def __init__(self):\n",
    "        super(TextCNN, self).__init__()\n",
    "        self.filter_sizes = (2, 3, 4)\n",
    "        self.embed = 300\n",
    "        self.num_filters = 256\n",
    "        self.dropout = 0.5\n",
    "        self.num_classes = num_classes\n",
    "        self.n_vocab = vocab_size\n",
    "        #The  character is padded to 0 by padding_idx</pad>\n",
    "        self.embedding = nn.Embedding(self.n_vocab, self.embed, padding_idx=word2idx['<PAD>'])\n",
    "        self.convs = nn.ModuleList(\n",
    "            [nn.Conv2d(1, self.num_filters, (k, self.embed)) for k in self.filter_sizes])\n",
    "        \n",
    "        self.dropout = nn.Dropout(self.dropout)\n",
    "        self.fc = nn.Linear(self.num_filters * len(self.filter_sizes), self.num_classes)\n",
    "        \n",
    "    def conv_and_pool(self, x, conv):\n",
    "        x = F.relu(conv(x)).squeeze(3)\n",
    "        x = F.max_pool1d(x, x.size(2)).squeeze(2)\n",
    "        return x\n",
    "        \n",
    "    def forward(self, x):\n",
    "        out = self.embedding(x)\n",
    "        out = out.unsqueeze(1)\n",
    "        out = torch.cat([self.conv_and_pool(out, conv) for conv in self.convs], 1)\n",
    "        out = self.dropout(out)\n",
    "        out = self.fc(out)\n",
    "        return out\n"
   ]
  },
  {
   "cell_type": "markdown",
   "id": "b7fd0c1d-508b-4f02-8703-17691d753ba9",
   "metadata": {},
   "source": [
    "# 4. build the Model"
   ]
  },
  {
   "cell_type": "code",
   "execution_count": 12,
   "id": "8663fb79",
   "metadata": {},
   "outputs": [],
   "source": [
    "model = TextCNN().to(device)\n",
    "criterion = nn.CrossEntropyLoss().to(device)\n",
    "optimizer = optim.Adam(model.parameters(), lr=1e-3)\n",
    "\n",
    "# Training\n",
    "for epoch in range(1):\n",
    "    for batch_x, batch_y in train_loader:\n",
    "        batch_x, batch_y = batch_x.to(device), batch_y.to(device)\n",
    "        \n",
    "        pred = model(batch_x)\n",
    "        loss = criterion(pred, batch_y)\n",
    "        if (epoch + 1) % 10 == 0:\n",
    "            print('Epoch:', '%04d' % (epoch + 1), 'loss =', '{:.6f}'.format(loss))\n",
    "\n",
    "        optimizer.zero_grad()\n",
    "        loss.backward()\n",
    "        optimizer.step()\n"
   ]
  },
  {
   "cell_type": "code",
   "execution_count": 13,
   "id": "2cd77176",
   "metadata": {},
   "outputs": [
    {
     "name": "stdout",
     "output_type": "stream",
     "text": [
      "Accuracy: 1591/2000 (80%)\n",
      "\n"
     ]
    }
   ],
   "source": [
    "test_acc_list = []\n",
    "model.eval()\n",
    "test_loss = 0\n",
    "correct = 0\n",
    "with torch.no_grad():\n",
    "    for data, target in test_loader:\n",
    "        data, target = data.to(device), target.to(device)\n",
    "        output = model(data)\n",
    "\n",
    "        pred = output.max(1, keepdim=True)[1]                           \n",
    "        correct += pred.eq(target.view_as(pred)).sum().item()\n",
    "\n",
    "# test_loss /= len(test_loader.dataset)\n",
    "# test_loss_list.append(test_loss)\n",
    "test_acc_list.append(100. * correct / len(test_loader.dataset))\n",
    "print('Accuracy: {}/{} ({:.0f}%)\\n'.format(correct, len(test_loader.dataset),100. * correct / len(test_loader.dataset)))\n"
   ]
  },
  {
   "cell_type": "markdown",
   "id": "96aa0098-4057-4253-a692-cc0dc482da0c",
   "metadata": {},
   "source": [
    "# 5. Save the model"
   ]
  },
  {
   "cell_type": "code",
   "execution_count": 14,
   "id": "4cfc5347-e7b3-4f92-82f4-3d9d7a76189c",
   "metadata": {},
   "outputs": [],
   "source": [
    "#torch.save(model, PATH)"
   ]
  },
  {
   "cell_type": "markdown",
   "id": "86863467-2fe8-4bcc-8ed9-6df8d5ec6390",
   "metadata": {},
   "source": [
    "# 6.Load the model"
   ]
  },
  {
   "cell_type": "code",
   "execution_count": 15,
   "id": "bdad87ef-2938-4a7b-86c7-4fb812fa5af2",
   "metadata": {},
   "outputs": [],
   "source": [
    "#model = torch.load(PATH)\n",
    "#model.eval()"
   ]
  }
 ],
 "metadata": {
  "kernelspec": {
   "display_name": "Python 3 (ipykernel)",
   "language": "python",
   "name": "python3"
  },
  "language_info": {
   "codemirror_mode": {
    "name": "ipython",
    "version": 3
   },
   "file_extension": ".py",
   "mimetype": "text/x-python",
   "name": "python",
   "nbconvert_exporter": "python",
   "pygments_lexer": "ipython3",
   "version": "3.9.12"
  }
 },
 "nbformat": 4,
 "nbformat_minor": 5
}
