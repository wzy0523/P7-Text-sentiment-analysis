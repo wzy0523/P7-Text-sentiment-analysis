{
  "cells": [
    {
      "cell_type": "code",
      "execution_count": 1,
      "id": "cce72644-adb1-41e2-ae53-78eeb5776e97",
      "metadata": {
        "id": "cce72644-adb1-41e2-ae53-78eeb5776e97"
      },
      "outputs": [],
      "source": [
        "import numpy as np \n",
        "import pandas as pd \n",
        "import os\n",
        "from sklearn.model_selection import GridSearchCV"
      ]
    },
    {
      "cell_type": "code",
      "source": [
        "df=pd.read_csv()"
      ],
      "metadata": {
        "id": "l9WXOELejL-X"
      },
      "id": "l9WXOELejL-X",
      "execution_count": 5,
      "outputs": []
    },
    {
      "cell_type": "code",
      "source": [
        "df = df.dropna()\n",
        "X=df[\"text\"].values.tolist()\n",
        "y=df[\"spam\"].tolist()"
      ],
      "metadata": {
        "id": "TgZisaqiHGr0"
      },
      "id": "TgZisaqiHGr0",
      "execution_count": 6,
      "outputs": []
    },
    {
      "cell_type": "code",
      "source": [
        "len(X)"
      ],
      "metadata": {
        "colab": {
          "base_uri": "https://localhost:8080/"
        },
        "id": "2FVMJoFWHbEj",
        "outputId": "d6e4e4e9-8d64-4346-b156-582a5b3c605f"
      },
      "id": "2FVMJoFWHbEj",
      "execution_count": 7,
      "outputs": [
        {
          "output_type": "execute_result",
          "data": {
            "text/plain": [
              "5728"
            ]
          },
          "metadata": {},
          "execution_count": 7
        }
      ]
    },
    {
      "cell_type": "code",
      "source": [
        "size = 573"
      ],
      "metadata": {
        "id": "q2o7Sbq6Heo2"
      },
      "id": "q2o7Sbq6Heo2",
      "execution_count": 8,
      "outputs": []
    },
    {
      "cell_type": "code",
      "source": [
        "index_list = []\n",
        "for i in range(0,10):\n",
        "  min_index = i*(size+1)\n",
        "  max_index = min_index + size\n",
        "  index_list.append([min_index, max_index])\n",
        "for i in range(0,10):\n",
        "  X1 = pd.Series(X)\n",
        "  y1 = pd.Series(y)\n",
        "  if i == 9:\n",
        "    min = index_list[1][0]\n",
        "    max = index_list[8][1]\n",
        "    xtrain = X1[min:max]\n",
        "    ytrain = y1[min:max]\n",
        "    xtest = X1.drop(X1.index[min:max])\n",
        "    ytest = y1.drop(y1.index[min:max])\n",
        "    albert(xtrain,xtest,ytrain,ytest)\n",
        "  else: \n",
        "    min = index_list[i][0]\n",
        "    max = index_list[i+1][1]\n",
        "    xtest = X1[min:max]\n",
        "    ytest = y1[min:max]\n",
        "    xtrain = X1.drop(X1.index[min:max])\n",
        "    ytrain = y1.drop(y1.index[min:max])\n",
        "    albert(xtrain,xtest,ytrain,ytest)"
      ],
      "metadata": {
        "colab": {
          "base_uri": "https://localhost:8080/",
          "height": 303
        },
        "id": "hJLIDH8DjvxG",
        "outputId": "ca71856f-920b-420c-861b-cb5e4b98c614"
      },
      "id": "hJLIDH8DjvxG",
      "execution_count": null,
      "outputs": [
        {
          "output_type": "stream",
          "name": "stdout",
          "text": [
            "preprocessing train...\n",
            "language: en\n",
            "train sequence lengths:\n",
            "\tmean : 344\n",
            "\t95percentile : 969\n",
            "\t99percentile : 1800\n"
          ]
        },
        {
          "output_type": "display_data",
          "data": {
            "text/plain": [
              "<IPython.core.display.HTML object>"
            ],
            "text/html": [
              "\n",
              "<style>\n",
              "    /* Turns off some styling */\n",
              "    progress {\n",
              "        /* gets rid of default border in Firefox and Opera. */\n",
              "        border: none;\n",
              "        /* Needs to be in here for Safari polyfill so background images work as expected. */\n",
              "        background-size: auto;\n",
              "    }\n",
              "    progress:not([value]), progress:not([value])::-webkit-progress-bar {\n",
              "        background: repeating-linear-gradient(45deg, #7e7e7e, #7e7e7e 10px, #5c5c5c 10px, #5c5c5c 20px);\n",
              "    }\n",
              "    .progress-bar-interrupted, .progress-bar-interrupted::-webkit-progress-bar {\n",
              "        background: #F44336;\n",
              "    }\n",
              "</style>\n"
            ]
          },
          "metadata": {}
        },
        {
          "output_type": "display_data",
          "data": {
            "text/plain": [
              "<IPython.core.display.HTML object>"
            ],
            "text/html": []
          },
          "metadata": {}
        },
        {
          "output_type": "stream",
          "name": "stdout",
          "text": [
            "Is Multi-Label? False\n",
            "preprocessing test...\n",
            "language: en\n",
            "test sequence lengths:\n",
            "\tmean : 259\n",
            "\t95percentile : 825\n",
            "\t99percentile : 2301\n"
          ]
        },
        {
          "output_type": "display_data",
          "data": {
            "text/plain": [
              "<IPython.core.display.HTML object>"
            ],
            "text/html": [
              "\n",
              "<style>\n",
              "    /* Turns off some styling */\n",
              "    progress {\n",
              "        /* gets rid of default border in Firefox and Opera. */\n",
              "        border: none;\n",
              "        /* Needs to be in here for Safari polyfill so background images work as expected. */\n",
              "        background-size: auto;\n",
              "    }\n",
              "    progress:not([value]), progress:not([value])::-webkit-progress-bar {\n",
              "        background: repeating-linear-gradient(45deg, #7e7e7e, #7e7e7e 10px, #5c5c5c 10px, #5c5c5c 20px);\n",
              "    }\n",
              "    .progress-bar-interrupted, .progress-bar-interrupted::-webkit-progress-bar {\n",
              "        background: #F44336;\n",
              "    }\n",
              "</style>\n"
            ]
          },
          "metadata": {}
        },
        {
          "output_type": "display_data",
          "data": {
            "text/plain": [
              "<IPython.core.display.HTML object>"
            ],
            "text/html": []
          },
          "metadata": {}
        },
        {
          "output_type": "stream",
          "name": "stdout",
          "text": [
            "\n",
            "\n",
            "begin training using onecycle policy with max lr of 2e-05...\n"
          ]
        }
      ]
    }
  ],
  "metadata": {
    "kernelspec": {
      "display_name": "Python 3",
      "language": "python",
      "name": "python3"
    },
    "language_info": {
      "codemirror_mode": {
        "name": "ipython",
        "version": 3
      },
      "file_extension": ".py",
      "mimetype": "text/x-python",
      "name": "python",
      "nbconvert_exporter": "python",
      "pygments_lexer": "ipython3",
      "version": "3.8.8"
    },
    "colab": {
      "provenance": []
    }
  },
  "nbformat": 4,
  "nbformat_minor": 5
}