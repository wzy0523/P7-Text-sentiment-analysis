{
 "cells": [
  {
   "cell_type": "code",
   "execution_count": 1,
   "id": "046e036b-49b8-4687-b13a-60376de0999a",
   "metadata": {},
   "outputs": [],
   "source": [
    "import os\n",
    "from pathlib import Path\n",
    "import pandas as pd\n",
    "from sklearn.model_selection import train_test_split\n",
    "from sklearn.naive_bayes import MultinomialNB\n",
    "from sklearn.model_selection import cross_val_score"
   ]
  },
  {
   "cell_type": "code",
   "execution_count": 2,
   "id": "24a39e0f-79dc-4f33-9681-695f9837b388",
   "metadata": {},
   "outputs": [],
   "source": [
    "PATH_ROOT = Path(os.getcwd())\n",
    "PATH_Email = os.path.join(PATH_ROOT.parent, 'data/CS760/Email', 'fraud_email_.csv')\n",
    "PATH_News=os.path.join(PATH_ROOT.parent, 'data/CS760/News', 'Covid-19 News.csv')\n",
    "PATH_Review=os.path.join(PATH_ROOT.parent, 'data/CS760/Review', 'Womens Clothing E-Commerce Reviews.csv')\n",
    "\n",
    "\n",
    "Email=pd.read_csv(PATH_Email)\n",
    "News=pd.read_csv(PATH_News,header=None)\n",
    "Review=pd.read_csv(PATH_Review)\n",
    "\n"
   ]
  },
  {
   "cell_type": "code",
   "execution_count": 82,
   "id": "322e911b-1faf-4462-8202-487f322c9321",
   "metadata": {},
   "outputs": [
    {
     "data": {
      "text/html": [
       "<div>\n",
       "<style scoped>\n",
       "    .dataframe tbody tr th:only-of-type {\n",
       "        vertical-align: middle;\n",
       "    }\n",
       "\n",
       "    .dataframe tbody tr th {\n",
       "        vertical-align: top;\n",
       "    }\n",
       "\n",
       "    .dataframe thead th {\n",
       "        text-align: right;\n",
       "    }\n",
       "</style>\n",
       "<table border=\"1\" class=\"dataframe\">\n",
       "  <thead>\n",
       "    <tr style=\"text-align: right;\">\n",
       "      <th></th>\n",
       "      <th>text</th>\n",
       "      <th>type</th>\n",
       "    </tr>\n",
       "  </thead>\n",
       "  <tbody>\n",
       "    <tr>\n",
       "      <th>0</th>\n",
       "      <td>Absolutely wonderful - silky and sexy and comf...</td>\n",
       "      <td>Review</td>\n",
       "    </tr>\n",
       "    <tr>\n",
       "      <th>1</th>\n",
       "      <td>Love this dress!  it's sooo pretty.  i happene...</td>\n",
       "      <td>Review</td>\n",
       "    </tr>\n",
       "    <tr>\n",
       "      <th>2</th>\n",
       "      <td>I had such high hopes for this dress and reall...</td>\n",
       "      <td>Review</td>\n",
       "    </tr>\n",
       "    <tr>\n",
       "      <th>3</th>\n",
       "      <td>I love, love, love this jumpsuit. it's fun, fl...</td>\n",
       "      <td>Review</td>\n",
       "    </tr>\n",
       "    <tr>\n",
       "      <th>4</th>\n",
       "      <td>This shirt is very flattering to all due to th...</td>\n",
       "      <td>Review</td>\n",
       "    </tr>\n",
       "    <tr>\n",
       "      <th>...</th>\n",
       "      <td>...</td>\n",
       "      <td>...</td>\n",
       "    </tr>\n",
       "    <tr>\n",
       "      <th>4795</th>\n",
       "      <td>Thank you for giving me your time=2E Please be...</td>\n",
       "      <td>Email</td>\n",
       "    </tr>\n",
       "    <tr>\n",
       "      <th>4796</th>\n",
       "      <td>ATTENTION:THE PRESIDENT Dear Sir,I am engr.Kof...</td>\n",
       "      <td>Email</td>\n",
       "    </tr>\n",
       "    <tr>\n",
       "      <th>4797</th>\n",
       "      <td>P proposing you put out the below based on bom...</td>\n",
       "      <td>Email</td>\n",
       "    </tr>\n",
       "    <tr>\n",
       "      <th>4798</th>\n",
       "      <td>Have had 2 sessions since u &amp; I talked having ...</td>\n",
       "      <td>Email</td>\n",
       "    </tr>\n",
       "    <tr>\n",
       "      <th>4799</th>\n",
       "      <td>The Director,            SEEKING FOR IMMEDIATE...</td>\n",
       "      <td>Email</td>\n",
       "    </tr>\n",
       "  </tbody>\n",
       "</table>\n",
       "<p>14400 rows × 2 columns</p>\n",
       "</div>"
      ],
      "text/plain": [
       "                                                   text    type\n",
       "0     Absolutely wonderful - silky and sexy and comf...  Review\n",
       "1     Love this dress!  it's sooo pretty.  i happene...  Review\n",
       "2     I had such high hopes for this dress and reall...  Review\n",
       "3     I love, love, love this jumpsuit. it's fun, fl...  Review\n",
       "4     This shirt is very flattering to all due to th...  Review\n",
       "...                                                 ...     ...\n",
       "4795  Thank you for giving me your time=2E Please be...   Email\n",
       "4796  ATTENTION:THE PRESIDENT Dear Sir,I am engr.Kof...   Email\n",
       "4797  P proposing you put out the below based on bom...   Email\n",
       "4798  Have had 2 sessions since u & I talked having ...   Email\n",
       "4799  The Director,            SEEKING FOR IMMEDIATE...   Email\n",
       "\n",
       "[14400 rows x 2 columns]"
      ]
     },
     "execution_count": 82,
     "metadata": {},
     "output_type": "execute_result"
    }
   ],
   "source": [
    "#each dataset use 4800 lines\n",
    "temp1=pd.DataFrame()  \n",
    "temp1['text']=Review.iloc[0:4800,4]\n",
    "temp1['type'] = \"Review\"\n",
    "\n",
    "temp2=pd.DataFrame()  \n",
    "temp2['text']=News.iloc[0:4800,1]\n",
    "temp2['type']=\"News\"\n",
    "\n",
    "temp3=pd.DataFrame()  \n",
    "temp3['text']=Email.iloc[0:4800,0]\n",
    "temp3['type']=\"Email\"\n",
    "\n",
    "frames = [temp1,temp2,temp3]\n",
    "train=pd.concat(frames)\n",
    "\n",
    "train"
   ]
  },
  {
   "cell_type": "code",
   "execution_count": 131,
   "id": "31ca0650-79a8-45a8-95b8-4b37a98f4e9b",
   "metadata": {},
   "outputs": [],
   "source": [
    "#set train and test\n",
    "X_train=train.text\n",
    "X_test=train.type\n",
    "\n",
    "from sklearn.feature_extraction.text import CountVectorizer\n",
    "v = CountVectorizer(token_pattern = '[a-zA-Z0-9]+',stop_words='english',min_df=2,max_df=0.3)\n",
    "X_train_T=v.fit_transform(X_train.values.astype('U'))\n",
    "\n"
   ]
  },
  {
   "cell_type": "code",
   "execution_count": 132,
   "id": "ff96fcb6-84ce-4e84-b0c0-e3be932cb588",
   "metadata": {},
   "outputs": [
    {
     "name": "stdout",
     "output_type": "stream",
     "text": [
      "[0.96180556 0.95763889 0.94444444 0.94305556 0.95555556 0.95069444\n",
      " 0.95902778 0.94861111 0.95069444 0.95833333]\n"
     ]
    },
    {
     "data": {
      "text/plain": [
       "0.9529861111111112"
      ]
     },
     "execution_count": 132,
     "metadata": {},
     "output_type": "execute_result"
    }
   ],
   "source": [
    "model=MultinomialNB()\n",
    "model.fit(X_train_T,X_test)\n",
    "scores = cross_val_score(model, X_train_T,X_test, cv=10)\n",
    "print(scores)\n",
    "scores.mean()"
   ]
  },
  {
   "cell_type": "code",
   "execution_count": 133,
   "id": "17f45d5a-aa90-4d58-834f-cf374da63262",
   "metadata": {},
   "outputs": [],
   "source": [
    "#纯粹随便取了8个数据测试(都是review)，之前cv已经做过测试\n",
    "test=pd.DataFrame()  \n",
    "#test['text']=Review.iloc[4801:4809,4]\n",
    "test['text']=News.iloc[4700:4800,1]\n",
    "#test['type'] = \"Review\"\n",
    "vtrans=v.transform(test['text'])\n",
    "ans=model.predict(vtrans)"
   ]
  },
  {
   "cell_type": "code",
   "execution_count": null,
   "id": "fc427a1d-76fc-4033-9f01-4dda9409e36c",
   "metadata": {},
   "outputs": [],
   "source": []
  },
  {
   "cell_type": "code",
   "execution_count": null,
   "id": "50ba036b-3a4c-42d3-ae26-bb7476b47807",
   "metadata": {},
   "outputs": [],
   "source": []
  }
 ],
 "metadata": {
  "kernelspec": {
   "display_name": "Python 3 (ipykernel)",
   "language": "python",
   "name": "python3"
  },
  "language_info": {
   "codemirror_mode": {
    "name": "ipython",
    "version": 3
   },
   "file_extension": ".py",
   "mimetype": "text/x-python",
   "name": "python",
   "nbconvert_exporter": "python",
   "pygments_lexer": "ipython3",
   "version": "3.9.7"
  }
 },
 "nbformat": 4,
 "nbformat_minor": 5
}
