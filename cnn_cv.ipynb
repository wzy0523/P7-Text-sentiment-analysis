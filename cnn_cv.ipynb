{
 "cells": [
  {
   "cell_type": "code",
   "execution_count": 1,
   "metadata": {},
   "outputs": [
    {
     "name": "stdout",
     "output_type": "stream",
     "text": [
      "cpu\n"
     ]
    }
   ],
   "source": [
    "import torch\n",
    "import numpy as np\n",
    "import pandas as pd\n",
    "import torch.nn as nn\n",
    "import torch.optim as optim\n",
    "import torch.utils.data as Data\n",
    "import torch.nn.functional as F\n",
    "\n",
    "dtype = torch.FloatTensor\n",
    "device = torch.device(\"cuda\" if torch.cuda.is_available() else \"cpu\")\n",
    "print(device)"
   ]
  },
  {
   "cell_type": "code",
   "execution_count": 2,
   "metadata": {},
   "outputs": [],
   "source": [
    " # TextCNN Parameter\n",
    "num_classes = 3\n",
    "batch_size = 64\n",
    "word_list = []\n",
    "vocab = []\n",
    "word2idx = []\n",
    "vocab_size = 0"
   ]
  },
  {
   "cell_type": "code",
   "execution_count": 3,
   "metadata": {},
   "outputs": [],
   "source": [
    "def make_data(sentences, labels):\n",
    "    # TextCNN Parameter\n",
    "    global num_classes \n",
    "    num_classes = len(set(labels))  # num_classes=2\n",
    "    global batch_size \n",
    "    batch_size = 64\n",
    "    global word_list \n",
    "    word_list = \" \".join(sentences).split()\n",
    "    global vocab\n",
    "    vocab = list(set(word_list))\n",
    "    global word2idx\n",
    "    word2idx = {w: i for i, w in enumerate(vocab)}\n",
    "    global vocab_size\n",
    "    vocab_size = len(vocab)\n",
    "    inputs = []\n",
    "    for sen in sentences:\n",
    "        inputs.append([word2idx[n] for n in sen.split()])\n",
    "    targets = []\n",
    "    for out in labels:\n",
    "        targets.append(out) # To using Torch Softmax Loss function\n",
    "    return inputs, targets"
   ]
  },
  {
   "cell_type": "code",
   "execution_count": 4,
   "metadata": {},
   "outputs": [],
   "source": [
    "class TextCNN(nn.Module):\n",
    "    def __init__(self):\n",
    "        super(TextCNN, self).__init__()\n",
    "        self.filter_sizes = (2, 3, 4)\n",
    "        self.embed = 300\n",
    "        self.num_filters = 256\n",
    "        self.dropout = 0.5\n",
    "        self.num_classes = num_classes\n",
    "        self.n_vocab = vocab_size\n",
    "        #The  character is padded to 0 by padding_idx</pad>\n",
    "        self.embedding = nn.Embedding(self.n_vocab, self.embed, padding_idx=word2idx['<PAD>'])\n",
    "        self.convs = nn.ModuleList(\n",
    "            [nn.Conv2d(1, self.num_filters, (k, self.embed)) for k in self.filter_sizes])\n",
    "        \n",
    "        self.dropout = nn.Dropout(self.dropout)\n",
    "        self.fc = nn.Linear(self.num_filters * len(self.filter_sizes), self.num_classes)\n",
    "        \n",
    "    def conv_and_pool(self, x, conv):\n",
    "        x = F.relu(conv(x)).squeeze(3)\n",
    "        x = F.max_pool1d(x, x.size(2)).squeeze(2)\n",
    "        return x\n",
    "        \n",
    "    def forward(self, x):\n",
    "        out = self.embedding(x)\n",
    "        out = out.unsqueeze(1)\n",
    "        out = torch.cat([self.conv_and_pool(out, conv) for conv in self.convs], 1)\n",
    "        out = self.dropout(out)\n",
    "        out = self.fc(out)\n",
    "        return out"
   ]
  },
  {
   "cell_type": "code",
   "execution_count": 5,
   "metadata": {},
   "outputs": [],
   "source": [
    "def cnn(train_dataset,test_dataset):\n",
    "    train_loader = Data.DataLoader(\n",
    "    dataset=train_dataset,      # Data, encapsulated in the data.tensorDataset()\n",
    "    batch_size=batch_size,      # size\n",
    "    shuffle=True,               \n",
    "    num_workers=2,              # multiprocess\n",
    "    )\n",
    "    test_loader = Data.DataLoader(\n",
    "        dataset=test_dataset,      \n",
    "        batch_size=batch_size,      \n",
    "        shuffle=True,               \n",
    "        num_workers=2, \n",
    "    )\n",
    "    model = TextCNN().to(device)\n",
    "    criterion = nn.CrossEntropyLoss().to(device)\n",
    "    optimizer = optim.Adam(model.parameters(), lr=1e-3)\n",
    "\n",
    "    # Training\n",
    "    for epoch in range(1):\n",
    "        for batch_x, batch_y in train_loader:\n",
    "            batch_x, batch_y = batch_x.to(device), batch_y.to(device)\n",
    "\n",
    "            pred = model(batch_x)\n",
    "            loss = criterion(pred, batch_y)\n",
    "            if (epoch + 1) % 10 == 0:\n",
    "                print('Epoch:', '%04d' % (epoch + 1), 'loss =', '{:.6f}'.format(loss))\n",
    "\n",
    "            optimizer.zero_grad()\n",
    "            loss.backward()\n",
    "            optimizer.step()\n",
    "    test_acc_list = []\n",
    "    model.eval()\n",
    "    test_loss = 0\n",
    "    correct = 0\n",
    "    with torch.no_grad():\n",
    "        for data, target in test_loader:\n",
    "            data, target = data.to(device), target.to(device)\n",
    "            output = model(data)\n",
    "\n",
    "            pred = output.max(1, keepdim=True)[1]                           \n",
    "            correct += pred.eq(target.view_as(pred)).sum().item()\n",
    "\n",
    "    # test_loss /= len(test_loader.dataset)\n",
    "    # test_loss_list.append(test_loss)\n",
    "    test_acc_list.append(100. * correct / len(test_loader.dataset))\n",
    "    print('Accuracy: {}/{} ({:.0f}%)\\n'.format(correct, len(test_loader.dataset),100. * correct / len(test_loader.dataset)))"
   ]
  },
  {
   "cell_type": "code",
   "execution_count": 6,
   "metadata": {},
   "outputs": [],
   "source": [
    "def cnn_cv(df_name):\n",
    "    df = pd.read_csv(df_name,header=0)\n",
    "    df = df[1:1000]\n",
    "    sentences = list(df['sw_exclude'])\n",
    "    labels = list(df['sentiment'])    \n",
    "    l = []\n",
    "    if -1 in labels:\n",
    "        num_classes = len(set(labels))\n",
    "        if num_classes == 2:\n",
    "            for i in labels:\n",
    "                if i == -1:\n",
    "                    l.append(0)\n",
    "                if i == 1:\n",
    "                    l.append(1)\n",
    "        if num_classes == 3:\n",
    "            for i in labels:\n",
    "                if i == -1:\n",
    "                    l.append(2)\n",
    "                if i == 0:\n",
    "                    l.append(0)\n",
    "                if i== 1:\n",
    "                    l.append(1)\n",
    "\n",
    "        labels = l\n",
    "        print('success')\n",
    "    else:\n",
    "        labels = labels\n",
    "    PAD = ' <PAD>'  # Fill in sentences of different lengths\n",
    "    pad_size =  64     # Fill as the same length\n",
    "\n",
    "    for i in range(len(sentences)):\n",
    "        sen2list = str(sentences[i]).split()\n",
    "        sentence_len = len(sen2list)\n",
    "        if sentence_len<pad_size:\n",
    "            sentences[i] += PAD*(pad_size-sentence_len)\n",
    "        else:\n",
    "            sentences[i] = \" \".join(sen2list[:pad_size])\n",
    "    input_batch, target_batch = make_data(sentences, labels)\n",
    "    input_x = np.array(input_batch)\n",
    "    target =  np.array(target_batch)\n",
    "  \n",
    "    cv(input_x,target)\n",
    "    \n",
    "    \n",
    "        \n",
    "    \n",
    "\n"
   ]
  },
  {
   "cell_type": "code",
   "execution_count": 7,
   "metadata": {},
   "outputs": [],
   "source": [
    "def cv(input_x,target):\n",
    "    from sklearn.model_selection import KFold\n",
    "    kf = KFold(n_splits=5)\n",
    "    kf.get_n_splits(input_x)\n",
    "    for train_index, test_index in kf.split(input_x):\n",
    "        x_train = input_x[train_index]\n",
    "        y_train = target[train_index]\n",
    "        x_test = input_x[test_index]\n",
    "        y_test = target[test_index]\n",
    "        train_dataset = Data.TensorDataset(torch.LongTensor(x_train), torch.LongTensor(y_train))\n",
    "        test_dataset = Data.TensorDataset(torch.LongTensor(x_test), torch.LongTensor(y_test))\n",
    "        cnn(train_dataset,test_dataset)\n",
    "    "
   ]
  },
  {
   "cell_type": "code",
   "execution_count": 8,
   "metadata": {},
   "outputs": [
    {
     "name": "stdout",
     "output_type": "stream",
     "text": [
      "success\n",
      "Accuracy: 14/21 (67%)\n",
      "\n",
      "Accuracy: 6/21 (29%)\n",
      "\n",
      "Accuracy: 13/21 (62%)\n",
      "\n",
      "Accuracy: 13/21 (62%)\n",
      "\n",
      "Accuracy: 14/20 (70%)\n",
      "\n"
     ]
    }
   ],
   "source": [
    "cnn_cv(\"email_preprocess.csv\")"
   ]
  },
  {
   "cell_type": "code",
   "execution_count": 9,
   "metadata": {},
   "outputs": [
    {
     "name": "stdout",
     "output_type": "stream",
     "text": [
      "success\n",
      "Accuracy: 125/200 (62%)\n",
      "\n",
      "Accuracy: 139/200 (70%)\n",
      "\n",
      "Accuracy: 118/200 (59%)\n",
      "\n",
      "Accuracy: 131/200 (66%)\n",
      "\n",
      "Accuracy: 133/199 (67%)\n",
      "\n"
     ]
    }
   ],
   "source": [
    "cnn_cv(\"covid_preprocess.csv\")"
   ]
  },
  {
   "cell_type": "code",
   "execution_count": 10,
   "metadata": {},
   "outputs": [
    {
     "name": "stdout",
     "output_type": "stream",
     "text": [
      "success\n",
      "Accuracy: 175/200 (88%)\n",
      "\n",
      "Accuracy: 183/200 (92%)\n",
      "\n",
      "Accuracy: 97/200 (48%)\n",
      "\n",
      "Accuracy: 143/200 (72%)\n",
      "\n",
      "Accuracy: 121/199 (61%)\n",
      "\n"
     ]
    }
   ],
   "source": [
    "cnn_cv(\"news_preprocess.csv\")"
   ]
  },
  {
   "cell_type": "code",
   "execution_count": 11,
   "metadata": {},
   "outputs": [
    {
     "name": "stdout",
     "output_type": "stream",
     "text": [
      "Accuracy: 117/200 (58%)\n",
      "\n",
      "Accuracy: 133/200 (66%)\n",
      "\n",
      "Accuracy: 128/200 (64%)\n",
      "\n",
      "Accuracy: 124/200 (62%)\n",
      "\n",
      "Accuracy: 115/199 (58%)\n",
      "\n"
     ]
    }
   ],
   "source": [
    "cnn_cv(\"twitter_preprocess.csv\")"
   ]
  },
  {
   "cell_type": "code",
   "execution_count": 12,
   "metadata": {},
   "outputs": [
    {
     "name": "stdout",
     "output_type": "stream",
     "text": [
      "success\n",
      "Accuracy: 151/200 (76%)\n",
      "\n",
      "Accuracy: 161/200 (80%)\n",
      "\n",
      "Accuracy: 149/200 (74%)\n",
      "\n",
      "Accuracy: 158/200 (79%)\n",
      "\n",
      "Accuracy: 160/199 (80%)\n",
      "\n"
     ]
    }
   ],
   "source": [
    "cnn_cv(\"review_preprocess.csv\")"
   ]
  },
  {
   "cell_type": "code",
   "execution_count": 13,
   "metadata": {},
   "outputs": [
    {
     "name": "stdout",
     "output_type": "stream",
     "text": [
      "success\n",
      "Accuracy: 96/200 (48%)\n",
      "\n",
      "Accuracy: 128/200 (64%)\n",
      "\n",
      "Accuracy: 115/200 (58%)\n",
      "\n",
      "Accuracy: 122/200 (61%)\n",
      "\n",
      "Accuracy: 126/199 (63%)\n",
      "\n"
     ]
    }
   ],
   "source": [
    "cnn_cv(\"imdb_preprocess.csv\")"
   ]
  }
 ],
 "metadata": {
  "kernelspec": {
   "display_name": "Python 3",
   "language": "python",
   "name": "python3"
  },
  "language_info": {
   "codemirror_mode": {
    "name": "ipython",
    "version": 3
   },
   "file_extension": ".py",
   "mimetype": "text/x-python",
   "name": "python",
   "nbconvert_exporter": "python",
   "pygments_lexer": "ipython3",
   "version": "3.8.5"
  }
 },
 "nbformat": 4,
 "nbformat_minor": 4
}
